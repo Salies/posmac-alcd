{
 "cells": [
  {
   "cell_type": "code",
   "execution_count": 1,
   "metadata": {},
   "outputs": [],
   "source": [
    "import numpy as np\n",
    "from scipy.optimize import least_squares\n",
    "from sklearn.datasets import fetch_openml\n",
    "from sklearn.model_selection import train_test_split\n",
    "from sklearn.preprocessing import StandardScaler"
   ]
  },
  {
   "cell_type": "code",
   "execution_count": 2,
   "metadata": {},
   "outputs": [],
   "source": [
    "mnist = fetch_openml(\"mnist_784\", version=1)"
   ]
  },
  {
   "cell_type": "code",
   "execution_count": 3,
   "metadata": {},
   "outputs": [
    {
     "name": "stdout",
     "output_type": "stream",
     "text": [
      "(60000, 785) (60000,) (10000, 785) (10000,)\n"
     ]
    }
   ],
   "source": [
    "x = mnist.data\n",
    "y = mnist.target\n",
    "\n",
    "# (o dataset já vem embaralhado)\n",
    "\n",
    "# normalizando as intensidades de pixel para o intervalo [0, 1]\n",
    "x = x / 255.0\n",
    "\n",
    "# mudando y para ser 1 quando a imagem for 0, e -1 quando não for 0\n",
    "y = np.where(y == '0', 1, -1)\n",
    "\n",
    "x_train = x[:60000]\n",
    "y_train = y[:60000]\n",
    "\n",
    "x_train = np.array(x_train)\n",
    "y_train = np.array(y_train)\n",
    "\n",
    "x_test = x[60000:]\n",
    "y_test = y[60000:]\n",
    "\n",
    "x_test = np.array(x_test)\n",
    "y_test = np.array(y_test)\n",
    "\n",
    "# adicionar coluna extra de 1's para x_train e x_test (no início)\n",
    "# (para o bias)\n",
    "x_train = np.insert(x_train, 0, 1, axis=1)\n",
    "x_test = np.insert(x_test, 0, 1, axis=1)\n",
    "\n",
    "print(x_train.shape, y_train.shape, x_test.shape, y_test.shape)"
   ]
  },
  {
   "cell_type": "code",
   "execution_count": 4,
   "metadata": {},
   "outputs": [],
   "source": [
    "# normalizando os dados\n",
    "scaler = StandardScaler()\n",
    "X_train = scaler.fit_transform(x_train)\n",
    "X_test = scaler.transform(x_test)"
   ]
  },
  {
   "cell_type": "code",
   "execution_count": 5,
   "metadata": {},
   "outputs": [],
   "source": [
    "# a sigmoide dada pelo VMLS é a tangente hiperbólica\n",
    "def sigmoid(z):\n",
    "    return np.tanh(z)\n",
    "\n",
    "# função objetivo\n",
    "def residuals(params, X, y, lam):\n",
    "    beta = params[:-1]\n",
    "    v = params[-1]\n",
    "    preds = sigmoid(X @ beta + v)\n",
    "    residual = preds - y\n",
    "    # com regularização\n",
    "    regularization = lam * beta\n",
    "    return np.concatenate([residual, regularization])\n",
    "\n",
    "# função para computar a jacobiana da função objetivo\n",
    "# isso vai acelerar bastante os cálculos,\n",
    "# visto que a derivada de tanh é conhecida e simples\n",
    "def jacobian(params, X, y, lam):\n",
    "    beta = params[:-1]\n",
    "    v = params[-1]\n",
    "    z = X @ beta + v\n",
    "    preds_derivative = 1 - np.tanh(z) ** 2\n",
    "    \n",
    "    J = np.zeros((X.shape[0] + len(beta), len(params)))\n",
    "    \n",
    "    J[:X.shape[0], :-1] = X * preds_derivative[:, np.newaxis]\n",
    "    J[:X.shape[0], -1] = preds_derivative\n",
    "\n",
    "    J[X.shape[0]:, :-1] = lam * np.eye(len(beta))\n",
    "    \n",
    "    return J"
   ]
  },
  {
   "cell_type": "code",
   "execution_count": 6,
   "metadata": {},
   "outputs": [],
   "source": [
    "n_features = X_train.shape[1]\n",
    "initial_params = np.zeros(n_features + 1)\n",
    "lam = 100"
   ]
  },
  {
   "cell_type": "code",
   "execution_count": 7,
   "metadata": {},
   "outputs": [
    {
     "name": "stdout",
     "output_type": "stream",
     "text": [
      "   Iteration     Total nfev        Cost      Cost reduction    Step norm     Optimality   \n",
      "       0              1         3.0000e+04                                    4.82e+04    \n",
      "       1              2         4.2237e+03      2.58e+04       8.17e-01       5.22e+03    \n",
      "       2              3         2.0743e+03      2.15e+03       5.32e-01       8.34e+02    \n",
      "       3              4         1.7752e+03      2.99e+02       4.86e-01       8.40e+01    \n",
      "       4              5         1.7691e+03      6.09e+00       8.11e-02       2.38e+01    \n",
      "       5              6         1.7688e+03      2.79e-01       2.37e-02       1.40e+01    \n",
      "       6              7         1.7688e+03      4.67e-02       1.15e-02       8.20e+00    \n",
      "       7              8         1.7688e+03      1.08e-02       6.22e-03       5.13e+00    \n",
      "       8              9         1.7688e+03      3.49e-03       3.64e-03       3.18e+00    \n",
      "       9             10         1.7688e+03      1.20e-03       2.19e-03       2.00e+00    \n",
      "      10             11         1.7688e+03      4.56e-04       1.35e-03       1.25e+00    \n",
      "      11             12         1.7688e+03      1.73e-04       8.33e-04       7.89e-01    \n",
      "      12             13         1.7687e+03      6.79e-05       5.19e-04       4.96e-01    \n",
      "      13             14         1.7687e+03      2.65e-05       3.24e-04       3.13e-01    \n",
      "      14             15         1.7687e+03      1.05e-05       2.03e-04       1.97e-01    \n",
      "`ftol` termination condition is satisfied.\n",
      "Function evaluations 15, initial cost 3.0000e+04, final cost 1.7687e+03, first-order optimality 1.97e-01.\n"
     ]
    }
   ],
   "source": [
    "result = least_squares(\n",
    "    residuals, \n",
    "    initial_params, \n",
    "    jac=jacobian,\n",
    "    args=(X_train, y_train, lam), \n",
    "    verbose=2\n",
    ")"
   ]
  },
  {
   "cell_type": "code",
   "execution_count": 8,
   "metadata": {},
   "outputs": [
    {
     "name": "stdout",
     "output_type": "stream",
     "text": [
      "0.1968998861972986\n",
      "1768.7499162263157\n"
     ]
    }
   ],
   "source": [
    "print(result.optimality)\n",
    "print(result.cost)"
   ]
  },
  {
   "cell_type": "code",
   "execution_count": 9,
   "metadata": {},
   "outputs": [],
   "source": [
    "beta_opt = result.x[:-1]\n",
    "v_opt = result.x[-1]"
   ]
  },
  {
   "cell_type": "code",
   "execution_count": 10,
   "metadata": {},
   "outputs": [],
   "source": [
    "y_hat = np.sign(sigmoid(X_test @ beta_opt + v_opt))"
   ]
  },
  {
   "cell_type": "code",
   "execution_count": 11,
   "metadata": {},
   "outputs": [
    {
     "name": "stdout",
     "output_type": "stream",
     "text": [
      "Precisão de 99.04%\n"
     ]
    }
   ],
   "source": [
    "accuracy = np.mean(y_hat == y_test)\n",
    "\n",
    "print(f'Precisão de {accuracy*100:.2f}%')"
   ]
  }
 ],
 "metadata": {
  "kernelspec": {
   "display_name": "env",
   "language": "python",
   "name": "python3"
  },
  "language_info": {
   "codemirror_mode": {
    "name": "ipython",
    "version": 3
   },
   "file_extension": ".py",
   "mimetype": "text/x-python",
   "name": "python",
   "nbconvert_exporter": "python",
   "pygments_lexer": "ipython3",
   "version": "3.11.7"
  }
 },
 "nbformat": 4,
 "nbformat_minor": 2
}
