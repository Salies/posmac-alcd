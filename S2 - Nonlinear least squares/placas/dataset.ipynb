{
 "cells": [
  {
   "cell_type": "code",
   "execution_count": 100,
   "metadata": {},
   "outputs": [],
   "source": [
    "from PIL import Image\n",
    "import numpy as np\n",
    "import matplotlib.pyplot as plt\n",
    "from tqdm import tqdm"
   ]
  },
  {
   "cell_type": "markdown",
   "metadata": {},
   "source": [
    "Vamos construir um dataset similar ao MNIST a partir das nossas placas de trânsito!"
   ]
  },
  {
   "cell_type": "markdown",
   "metadata": {},
   "source": [
    "Temos 38 placas no total, com 64 distorções cada.\n",
    "\n",
    "Deixaremos as últimas 8 placas exclusivamente como conjunto de teste, o que nos deixa com\n",
    "\n",
    "$30 \\times 64 \\times 7 = 13,440$ dígitos de treinamento\n",
    "\n",
    "$8 \\times 64 \\times 7 = 3,584$ dígitos de teste"
   ]
  },
  {
   "cell_type": "code",
   "execution_count": 101,
   "metadata": {},
   "outputs": [
    {
     "data": {
      "text/plain": [
       "(13000, 2432)"
      ]
     },
     "execution_count": 101,
     "metadata": {},
     "output_type": "execute_result"
    }
   ],
   "source": [
    "# carregando nosso conjujto\n",
    "mat = np.load('placas.npy')\n",
    "mat.shape"
   ]
  },
  {
   "cell_type": "markdown",
   "metadata": {},
   "source": [
    "O nosso dataset já está ordenado, o que já ajuda bastante. As primeiras 64 imagens são as 64 variações da primeira placa, e assim por diante."
   ]
  },
  {
   "cell_type": "code",
   "execution_count": 102,
   "metadata": {},
   "outputs": [
    {
     "data": {
      "image/jpeg": "[encoded data removed]",
      "image/png": "[encoded data removed]",
      "text/plain": [
       "<PIL.Image.Image image mode=L size=200x65>"
      ]
     },
     "execution_count": 102,
     "metadata": {},
     "output_type": "execute_result"
    }
   ],
   "source": [
    "teste = mat[:, 63].reshape(65, 200)\n",
    "imteste = Image.fromarray(teste)\n",
    "imteste"
   ]
  },
  {
   "cell_type": "markdown",
   "metadata": {},
   "source": [
    "O algoritmo a seguir nos auxiliará a montar o dataset de dígitos.\n",
    "\n",
    "Ele funciona da seguinte forma:\n",
    "1. Invertemos as cores da imagem, transformando-a em \"branco no preto\" ao invés de \"preto no branco\".\n",
    "1. Removemos os \"flancos\" da imagem, para a focar apenas no texto.\n",
    "1. Através de uma janela rolante com overlap, recortamos a imagem em 7 novas imagens,\n",
    "a fim de, aproximadamente, isolar cada dígito."
   ]
  },
  {
   "cell_type": "code",
   "execution_count": 103,
   "metadata": {},
   "outputs": [],
   "source": [
    "def generate_crops(im):\n",
    "    im = im.copy()\n",
    "    im = Image.eval(im, lambda x: 255-x)\n",
    "    im = im.crop((20, 20, im.width, im.height - 5))\n",
    "    crops = np.zeros((7, 40 * 24))\n",
    "    for i in range(7):\n",
    "        start_x = i * (24 - 3)  # Overlap 3 pixels\n",
    "        crop = im.crop((start_x, 0, start_x + 24, 40))\n",
    "        crops[i] = np.array(crop).flatten()\n",
    "    return crops"
   ]
  },
  {
   "cell_type": "code",
   "execution_count": 104,
   "metadata": {},
   "outputs": [
    {
     "data": {
      "image/png": "[encoded data removed]",
      "text/plain": [
       "<Figure size 1500x500 with 7 Axes>"
      ]
     },
     "metadata": {},
     "output_type": "display_data"
    }
   ],
   "source": [
    "crops_teste = generate_crops(imteste)\n",
    "fig, axes = plt.subplots(1, crops_teste.shape[0], figsize=(15, 5))\n",
    "for i, ax in enumerate(axes):\n",
    "    crop_image = crops_teste[i].reshape(40, 24)  # Reshape to the original dimensions\n",
    "    ax.imshow(crop_image, cmap=\"gray\")\n",
    "    ax.axis(\"off\")\n",
    "    ax.set_title(f\"Crop {i+1}\")"
   ]
  },
  {
   "cell_type": "markdown",
   "metadata": {},
   "source": [
    "O algoritmo funciona! Vamos construir nosso dataset, então.\n",
    "\n",
    "Ao contrário de seu antecessor, as imagens serão dispostas por linha, de forma a respeitar o padrão estabelecido pelo MNIST."
   ]
  },
  {
   "cell_type": "code",
   "execution_count": 105,
   "metadata": {},
   "outputs": [
    {
     "name": "stdout",
     "output_type": "stream",
     "text": [
      "Shape do dataset: (17024, 960)\n"
     ]
    },
    {
     "name": "stderr",
     "output_type": "stream",
     "text": [
      "100%|██████████| 2432/2432 [00:00<00:00, 7040.61it/s]\n"
     ]
    }
   ],
   "source": [
    "data_mat = np.zeros((38 * 64 * 7, 40 * 24))\n",
    "print(f'Shape do dataset: {data_mat.shape}')\n",
    "\n",
    "for i in tqdm(range(38 * 64)):\n",
    "    imi = Image.fromarray(mat[:, i].reshape(65, 200))\n",
    "    crops = generate_crops(imi)\n",
    "    data_mat[i * 7: (i + 1) * 7] = crops"
   ]
  },
  {
   "cell_type": "markdown",
   "metadata": {},
   "source": [
    "E temos nosso dataset! Agora vamos randomizá-lo junto de seu gabarito."
   ]
  },
  {
   "cell_type": "code",
   "execution_count": 106,
   "metadata": {},
   "outputs": [
    {
     "name": "stdout",
     "output_type": "stream",
     "text": [
      "['OMN8J08', 'RYW1K02', 'MUO3S01', 'IDJ2V24', 'UTR5N48', 'ZCJ9G02', 'UAQ0A02', 'BLY4F77', 'GOB6N58', 'IPY6D84']\n",
      "OMN8J08OMN8J08\n"
     ]
    }
   ],
   "source": [
    "f = open('placas.txt', 'r')\n",
    "labels = f.readlines()\n",
    "f.close()\n",
    "labels = [l.strip() for l in labels]\n",
    "print(labels[0:10])\n",
    "\n",
    "# repete cada label 64 vezes\n",
    "gabarito = [item for item in labels for _ in range(64)]\n",
    "gabarito = ''.join(gabarito)\n",
    "print(gabarito[0:7 * 2])"
   ]
  },
  {
   "cell_type": "code",
   "execution_count": 107,
   "metadata": {},
   "outputs": [],
   "source": [
    "# por convenção, embaralhamos as linhas do dataset\n",
    "# temos que embaralhar o gabarito na mesma ordem\n",
    "np.random.seed(42)\n",
    "idx = np.random.permutation(data_mat.shape[0])\n",
    "data_mat = data_mat[idx]\n",
    "gabarito = [gabarito[i] for i in idx]"
   ]
  },
  {
   "cell_type": "code",
   "execution_count": 108,
   "metadata": {},
   "outputs": [
    {
     "data": {
      "image/png": "[encoded data removed]",
      "text/plain": [
       "<Figure size 1500x500 with 7 Axes>"
      ]
     },
     "metadata": {},
     "output_type": "display_data"
    }
   ],
   "source": [
    "crops_teste_2 = data_mat[100:107]\n",
    "gabarito_teste_2 = gabarito[100:107]\n",
    "fig, axes = plt.subplots(1, crops_teste_2.shape[0], figsize=(15, 5))\n",
    "for i, ax in enumerate(axes):\n",
    "    crop_image = crops_teste_2[i].reshape(40, 24)  # Reshape to the original dimensions\n",
    "    ax.imshow(crop_image, cmap=\"gray\")\n",
    "    ax.axis(\"off\")\n",
    "    ax.set_title(f\"{gabarito_teste_2[i]}\")"
   ]
  },
  {
   "cell_type": "code",
   "execution_count": 109,
   "metadata": {},
   "outputs": [],
   "source": [
    "# salvamos as 30 * 64 * 7 como treino\n",
    "# o restante como teste\n",
    "np.save('treino.npy', data_mat[:30 * 64 * 7])\n",
    "np.save('teste.npy', data_mat[30 * 64 * 7:])\n",
    "\n",
    "# salvamos os gabaritos\n",
    "with open('gabarito_treino.txt', 'w') as f:\n",
    "    f.write(''.join(gabarito[:30 * 64 * 7]))\n",
    "\n",
    "with open('gabarito_teste.txt', 'w') as f:\n",
    "    f.write(''.join(gabarito[30 * 64 * 7:]))"
   ]
  }
 ],
 "metadata": {
  "kernelspec": {
   "display_name": "env",
   "language": "python",
   "name": "python3"
  },
  "language_info": {
   "codemirror_mode": {
    "name": "ipython",
    "version": 3
   },
   "file_extension": ".py",
   "mimetype": "text/x-python",
   "name": "python",
   "nbconvert_exporter": "python",
   "pygments_lexer": "ipython3",
   "version": "3.11.7"
  }
 },
 "nbformat": 4,
 "nbformat_minor": 2
}
