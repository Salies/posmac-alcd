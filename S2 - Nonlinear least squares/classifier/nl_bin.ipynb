{
 "cells": [
  {
   "cell_type": "code",
   "execution_count": 1,
   "metadata": {},
   "outputs": [],
   "source": [
    "import numpy as np\n",
    "from scipy.optimize import least_squares\n",
    "from sklearn.datasets import fetch_openml\n",
    "from sklearn.model_selection import train_test_split\n",
    "from sklearn.preprocessing import StandardScaler"
   ]
  },
  {
   "cell_type": "code",
   "execution_count": 2,
   "metadata": {},
   "outputs": [],
   "source": [
    "# Load the MNIST dataset\n",
    "mnist = fetch_openml(\"mnist_784\", version=1)"
   ]
  },
  {
   "cell_type": "code",
   "execution_count": 3,
   "metadata": {},
   "outputs": [
    {
     "name": "stdout",
     "output_type": "stream",
     "text": [
      "(60000, 784) (60000,) (10000, 784) (10000,)\n"
     ]
    }
   ],
   "source": [
    "x = mnist.data\n",
    "y = mnist.target\n",
    "\n",
    "# (o dataset já vem embaralhado)\n",
    "\n",
    "# The pixel intensities are scaled to lie between 0 and 1 \n",
    "x = x / 255.0\n",
    "\n",
    "# change y to be 1 when it's 0, and -1 when it's not 0\n",
    "y = np.where(y == '0', 1, -1)\n",
    "\n",
    "x_train = x[:60000]\n",
    "y_train = y[:60000]\n",
    "\n",
    "x_train = np.array(x_train)\n",
    "y_train = np.array(y_train)\n",
    "\n",
    "x_test = x[60000:]\n",
    "y_test = y[60000:]\n",
    "\n",
    "x_test = np.array(x_test)\n",
    "y_test = np.array(y_test)\n",
    "\n",
    "print(x_train.shape, y_train.shape, x_test.shape, y_test.shape)"
   ]
  },
  {
   "cell_type": "code",
   "execution_count": 4,
   "metadata": {},
   "outputs": [],
   "source": [
    "# Standardize features\n",
    "scaler = StandardScaler()\n",
    "X_train = scaler.fit_transform(x_train)\n",
    "X_test = scaler.transform(x_test)"
   ]
  },
  {
   "cell_type": "code",
   "execution_count": 5,
   "metadata": {},
   "outputs": [],
   "source": [
    "def sigmoid(z):\n",
    "    return np.tanh(z)\n",
    "\n",
    "# Residual function for LM\n",
    "def residuals(params, X, y, lam):\n",
    "    beta = params[:-1]\n",
    "    v = params[-1]\n",
    "    preds = sigmoid(X @ beta + v)\n",
    "    residual = preds - y\n",
    "    # Add regularization\n",
    "    regularization = lam * beta\n",
    "    return np.concatenate([residual, regularization])"
   ]
  },
  {
   "cell_type": "code",
   "execution_count": 6,
   "metadata": {},
   "outputs": [],
   "source": [
    "# Initial parameters\n",
    "n_features = X_train.shape[1]\n",
    "initial_params = np.zeros(n_features + 1)\n",
    "lam = 100 # Regularization parameter"
   ]
  },
  {
   "cell_type": "code",
   "execution_count": null,
   "metadata": {},
   "outputs": [],
   "source": [
    "result = least_squares(residuals, initial_params, args=(X_train, y_train, lam), verbose=2)"
   ]
  },
  {
   "cell_type": "code",
   "execution_count": 11,
   "metadata": {},
   "outputs": [
    {
     "name": "stdout",
     "output_type": "stream",
     "text": [
      "0.19689954964553635\n",
      "1768.7499162228255\n"
     ]
    }
   ],
   "source": [
    "print(result.optimality)\n",
    "print(result.cost)"
   ]
  },
  {
   "cell_type": "code",
   "execution_count": 12,
   "metadata": {},
   "outputs": [],
   "source": [
    "# Extract optimized parameters\n",
    "beta_opt = result.x[:-1]\n",
    "v_opt = result.x[-1]"
   ]
  },
  {
   "cell_type": "code",
   "execution_count": 13,
   "metadata": {},
   "outputs": [],
   "source": [
    "# Predictions\n",
    "y_hat = np.sign(sigmoid(X_test @ beta_opt + v_opt))"
   ]
  },
  {
   "cell_type": "code",
   "execution_count": 14,
   "metadata": {},
   "outputs": [
    {
     "name": "stdout",
     "output_type": "stream",
     "text": [
      "Precisão de 99.04%\n"
     ]
    }
   ],
   "source": [
    "# compare y_hat with y_test\n",
    "accuracy = np.mean(y_hat == y_test)\n",
    "\n",
    "print(f'Precisão de {accuracy*100:.2f}%')"
   ]
  }
 ],
 "metadata": {
  "kernelspec": {
   "display_name": "env",
   "language": "python",
   "name": "python3"
  },
  "language_info": {
   "codemirror_mode": {
    "name": "ipython",
    "version": 3
   },
   "file_extension": ".py",
   "mimetype": "text/x-python",
   "name": "python",
   "nbconvert_exporter": "python",
   "pygments_lexer": "ipython3",
   "version": "3.11.7"
  }
 },
 "nbformat": 4,
 "nbformat_minor": 2
}
