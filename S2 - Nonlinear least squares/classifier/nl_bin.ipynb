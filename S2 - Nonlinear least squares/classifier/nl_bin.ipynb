{
 "cells": [
  {
   "cell_type": "code",
   "execution_count": 1,
   "metadata": {},
   "outputs": [],
   "source": [
    "import numpy as np\n",
    "from scipy.optimize import least_squares\n",
    "from sklearn.datasets import fetch_openml\n",
    "from sklearn.model_selection import train_test_split\n",
    "from sklearn.preprocessing import StandardScaler"
   ]
  },
  {
   "cell_type": "code",
   "execution_count": 2,
   "metadata": {},
   "outputs": [],
   "source": [
    "# Load the MNIST dataset\n",
    "mnist = fetch_openml(\"mnist_784\", version=1)"
   ]
  },
  {
   "cell_type": "code",
   "execution_count": 3,
   "metadata": {},
   "outputs": [
    {
     "name": "stdout",
     "output_type": "stream",
     "text": [
      "(60000, 785) (60000,) (10000, 785) (10000,)\n"
     ]
    }
   ],
   "source": [
    "x = mnist.data\n",
    "y = mnist.target\n",
    "\n",
    "# (o dataset já vem embaralhado)\n",
    "\n",
    "# The pixel intensities are scaled to lie between 0 and 1 \n",
    "x = x / 255.0\n",
    "\n",
    "# change y to be 1 when it's 0, and -1 when it's not 0\n",
    "y = np.where(y == '0', 1, -1)\n",
    "\n",
    "x_train = x[:60000]\n",
    "y_train = y[:60000]\n",
    "\n",
    "x_train = np.array(x_train)\n",
    "y_train = np.array(y_train)\n",
    "\n",
    "x_test = x[60000:]\n",
    "y_test = y[60000:]\n",
    "\n",
    "x_test = np.array(x_test)\n",
    "y_test = np.array(y_test)\n",
    "\n",
    "# add extra column of 1's to x_train and x_test (at the beginning)\n",
    "x_train = np.insert(x_train, 0, 1, axis=1)\n",
    "x_test = np.insert(x_test, 0, 1, axis=1)\n",
    "\n",
    "print(x_train.shape, y_train.shape, x_test.shape, y_test.shape)"
   ]
  },
  {
   "cell_type": "code",
   "execution_count": 4,
   "metadata": {},
   "outputs": [],
   "source": [
    "# Standardize features\n",
    "scaler = StandardScaler()\n",
    "X_train = scaler.fit_transform(x_train)\n",
    "X_test = scaler.transform(x_test)"
   ]
  },
  {
   "cell_type": "code",
   "execution_count": 5,
   "metadata": {},
   "outputs": [],
   "source": [
    "def sigmoid(z):\n",
    "    return np.tanh(z)\n",
    "\n",
    "# Residual function for LM\n",
    "def residuals(params, X, y, lam):\n",
    "    beta = params[:-1]\n",
    "    v = params[-1]\n",
    "    preds = sigmoid(X @ beta + v)\n",
    "    residual = preds - y\n",
    "    # Add regularization\n",
    "    regularization = lam * beta\n",
    "    return np.concatenate([residual, regularization])"
   ]
  },
  {
   "cell_type": "code",
   "execution_count": 6,
   "metadata": {},
   "outputs": [],
   "source": [
    "# Initial parameters\n",
    "n_features = X_train.shape[1]\n",
    "initial_params = np.zeros(n_features + 1)\n",
    "lam = 100 # Regularization parameter"
   ]
  },
  {
   "cell_type": "code",
   "execution_count": 7,
   "metadata": {},
   "outputs": [
    {
     "name": "stdout",
     "output_type": "stream",
     "text": [
      "   Iteration     Total nfev        Cost      Cost reduction    Step norm     Optimality   \n",
      "       0              1         3.0000e+04                                    4.82e+04    \n",
      "       1              2         4.2237e+03      2.58e+04       8.17e-01       5.22e+03    \n",
      "       2              3         2.0743e+03      2.15e+03       5.32e-01       8.34e+02    \n",
      "       3              4         1.7752e+03      2.99e+02       4.86e-01       8.40e+01    \n",
      "       4              5         1.7691e+03      6.09e+00       8.11e-02       2.38e+01    \n",
      "       5              6         1.7688e+03      2.79e-01       2.37e-02       1.40e+01    \n",
      "       6              7         1.7688e+03      4.67e-02       1.15e-02       8.20e+00    \n",
      "       7              8         1.7688e+03      1.08e-02       6.22e-03       5.13e+00    \n",
      "       8              9         1.7688e+03      3.49e-03       3.64e-03       3.18e+00    \n",
      "       9             10         1.7688e+03      1.20e-03       2.19e-03       2.00e+00    \n",
      "      10             11         1.7688e+03      4.56e-04       1.35e-03       1.25e+00    \n",
      "      11             12         1.7688e+03      1.73e-04       8.33e-04       7.89e-01    \n",
      "      12             13         1.7687e+03      6.79e-05       5.19e-04       4.96e-01    \n",
      "      13             14         1.7687e+03      2.65e-05       3.24e-04       3.13e-01    \n",
      "      14             15         1.7687e+03      1.05e-05       2.03e-04       1.97e-01    \n",
      "`ftol` termination condition is satisfied.\n",
      "Function evaluations 15, initial cost 3.0000e+04, final cost 1.7687e+03, first-order optimality 1.97e-01.\n"
     ]
    }
   ],
   "source": [
    "# Solve using Levenberg-Marquardt\n",
    "result = least_squares(residuals, initial_params, args=(X_train, y_train, lam), verbose=2)"
   ]
  },
  {
   "cell_type": "code",
   "execution_count": 8,
   "metadata": {},
   "outputs": [
    {
     "name": "stdout",
     "output_type": "stream",
     "text": [
      "0.19689954964553635\n",
      "1768.7499162228255\n"
     ]
    }
   ],
   "source": [
    "print(result.optimality)\n",
    "print(result.cost)"
   ]
  },
  {
   "cell_type": "code",
   "execution_count": 9,
   "metadata": {},
   "outputs": [],
   "source": [
    "# Extract optimized parameters\n",
    "beta_opt = result.x[:-1]\n",
    "v_opt = result.x[-1]"
   ]
  },
  {
   "cell_type": "code",
   "execution_count": 10,
   "metadata": {},
   "outputs": [],
   "source": [
    "# Predictions\n",
    "y_hat = np.sign(sigmoid(X_test @ beta_opt + v_opt))"
   ]
  },
  {
   "cell_type": "code",
   "execution_count": 11,
   "metadata": {},
   "outputs": [
    {
     "name": "stdout",
     "output_type": "stream",
     "text": [
      "Precisão de 99.04%\n"
     ]
    }
   ],
   "source": [
    "# compare y_hat with y_test\n",
    "accuracy = np.mean(y_hat == y_test)\n",
    "\n",
    "print(f'Precisão de {accuracy*100:.2f}%')"
   ]
  }
 ],
 "metadata": {
  "kernelspec": {
   "display_name": "env",
   "language": "python",
   "name": "python3"
  },
  "language_info": {
   "codemirror_mode": {
    "name": "ipython",
    "version": 3
   },
   "file_extension": ".py",
   "mimetype": "text/x-python",
   "name": "python",
   "nbconvert_exporter": "python",
   "pygments_lexer": "ipython3",
   "version": "3.11.7"
  }
 },
 "nbformat": 4,
 "nbformat_minor": 2
}
