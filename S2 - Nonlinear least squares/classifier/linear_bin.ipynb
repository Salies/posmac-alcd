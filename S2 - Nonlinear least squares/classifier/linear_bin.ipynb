{
 "cells": [
  {
   "cell_type": "code",
   "execution_count": 2,
   "metadata": {},
   "outputs": [],
   "source": [
    "import numpy as np\n",
    "import matplotlib.pyplot as plt\n",
    "from sklearn.datasets import fetch_openml"
   ]
  },
  {
   "cell_type": "code",
   "execution_count": 3,
   "metadata": {},
   "outputs": [],
   "source": [
    "mnist = fetch_openml('mnist_784')"
   ]
  },
  {
   "cell_type": "code",
   "execution_count": 27,
   "metadata": {},
   "outputs": [
    {
     "name": "stdout",
     "output_type": "stream",
     "text": [
      "(60000, 785) (60000,) (10000, 785) (10000,)\n"
     ]
    }
   ],
   "source": [
    "x = mnist.data\n",
    "y = mnist.target\n",
    "\n",
    "# (o dataset já vem embaralhado)\n",
    "\n",
    "# The pixel intensities are scaled to lie between 0 and 1 \n",
    "x = x / 255.0\n",
    "\n",
    "# change y to be 1 when it's 0, and -1 when it's not 0\n",
    "y = np.where(y == '0', 1, -1)\n",
    "\n",
    "x_train = x[:60000]\n",
    "y_train = y[:60000]\n",
    "\n",
    "x_train = np.array(x_train)\n",
    "y_train = np.array(y_train)\n",
    "\n",
    "x_test = x[60000:]\n",
    "y_test = y[60000:]\n",
    "\n",
    "x_test = np.array(x_test)\n",
    "y_test = np.array(y_test)\n",
    "\n",
    "# add extra column of 1's to x_train and x_test (at the beginning)\n",
    "x_train = np.insert(x_train, 0, 1, axis=1)\n",
    "x_test = np.insert(x_test, 0, 1, axis=1)\n",
    "\n",
    "print(x_train.shape, y_train.shape, x_test.shape, y_test.shape)"
   ]
  },
  {
   "cell_type": "code",
   "execution_count": 29,
   "metadata": {},
   "outputs": [
    {
     "data": {
      "text/plain": [
       "(785,)"
      ]
     },
     "execution_count": 29,
     "metadata": {},
     "output_type": "execute_result"
    }
   ],
   "source": [
    "# lstsq\n",
    "w = np.linalg.lstsq(x_train, y_train, rcond=None)[0]\n",
    "w.shape"
   ]
  },
  {
   "cell_type": "code",
   "execution_count": 30,
   "metadata": {},
   "outputs": [],
   "source": [
    "# solve for y_hat\n",
    "y_hat = np.sign(x_test @ w)"
   ]
  },
  {
   "cell_type": "code",
   "execution_count": 35,
   "metadata": {},
   "outputs": [
    {
     "name": "stdout",
     "output_type": "stream",
     "text": [
      "Precisão de 98.43%\n"
     ]
    }
   ],
   "source": [
    "# compare y_hat with y_test\n",
    "accuracy = np.mean(y_hat == y_test)\n",
    "\n",
    "print(f'Precisão de {accuracy*100:.2f}%')"
   ]
  }
 ],
 "metadata": {
  "kernelspec": {
   "display_name": "env",
   "language": "python",
   "name": "python3"
  },
  "language_info": {
   "codemirror_mode": {
    "name": "ipython",
    "version": 3
   },
   "file_extension": ".py",
   "mimetype": "text/x-python",
   "name": "python",
   "nbconvert_exporter": "python",
   "pygments_lexer": "ipython3",
   "version": "3.11.7"
  }
 },
 "nbformat": 4,
 "nbformat_minor": 2
}
