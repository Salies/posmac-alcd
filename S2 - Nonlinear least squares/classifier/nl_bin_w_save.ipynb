{
 "cells": [
  {
   "cell_type": "code",
   "execution_count": 72,
   "metadata": {},
   "outputs": [],
   "source": [
    "import numpy as np\n",
    "from scipy.optimize import least_squares\n",
    "from sklearn.datasets import fetch_openml\n",
    "from sklearn.model_selection import train_test_split\n",
    "from sklearn.preprocessing import StandardScaler"
   ]
  },
  {
   "cell_type": "code",
   "execution_count": 73,
   "metadata": {},
   "outputs": [],
   "source": [
    "number = '9'"
   ]
  },
  {
   "cell_type": "code",
   "execution_count": 74,
   "metadata": {},
   "outputs": [],
   "source": [
    "# Load the MNIST dataset\n",
    "mnist = fetch_openml(\"mnist_784\", version=1)"
   ]
  },
  {
   "cell_type": "code",
   "execution_count": 75,
   "metadata": {},
   "outputs": [
    {
     "name": "stdout",
     "output_type": "stream",
     "text": [
      "(60000, 785) (60000,) (10000, 785) (10000,)\n"
     ]
    }
   ],
   "source": [
    "x = mnist.data\n",
    "y = mnist.target\n",
    "\n",
    "# (o dataset já vem embaralhado)\n",
    "\n",
    "# The pixel intensities are scaled to lie between 0 and 1 \n",
    "x = x / 255.0\n",
    "\n",
    "# change y to be 1 when it's 0, and -1 when it's not 0\n",
    "y = np.where(y == number, 1, -1)\n",
    "\n",
    "x_train = x[:60000]\n",
    "y_train = y[:60000]\n",
    "\n",
    "x_train = np.array(x_train)\n",
    "y_train = np.array(y_train)\n",
    "\n",
    "x_test = x[60000:]\n",
    "y_test = y[60000:]\n",
    "\n",
    "x_test = np.array(x_test)\n",
    "y_test = np.array(y_test)\n",
    "\n",
    "# add extra column of 1's to x_train and x_test (at the beginning)\n",
    "x_train = np.insert(x_train, 0, 1, axis=1)\n",
    "x_test = np.insert(x_test, 0, 1, axis=1)\n",
    "\n",
    "print(x_train.shape, y_train.shape, x_test.shape, y_test.shape)"
   ]
  },
  {
   "cell_type": "code",
   "execution_count": 76,
   "metadata": {},
   "outputs": [],
   "source": [
    "# Standardize features\n",
    "scaler = StandardScaler()\n",
    "X_train = scaler.fit_transform(x_train)\n",
    "X_test = scaler.transform(x_test)"
   ]
  },
  {
   "cell_type": "code",
   "execution_count": 77,
   "metadata": {},
   "outputs": [],
   "source": [
    "def sigmoid(z):\n",
    "    return np.tanh(z)\n",
    "\n",
    "# Residual function for LM\n",
    "def residuals(params, X, y, lam):\n",
    "    beta = params[:-1]\n",
    "    v = params[-1]\n",
    "    preds = sigmoid(X @ beta + v)\n",
    "    residual = preds - y\n",
    "    # Add regularization\n",
    "    regularization = lam * beta\n",
    "    return np.concatenate([residual, regularization])"
   ]
  },
  {
   "cell_type": "code",
   "execution_count": 78,
   "metadata": {},
   "outputs": [],
   "source": [
    "# Initial parameters\n",
    "n_features = X_train.shape[1]\n",
    "initial_params = np.zeros(n_features + 1)\n",
    "lam = 100 # Regularization parameter"
   ]
  },
  {
   "cell_type": "code",
   "execution_count": 79,
   "metadata": {},
   "outputs": [
    {
     "name": "stdout",
     "output_type": "stream",
     "text": [
      "`ftol` termination condition is satisfied.\n",
      "Function evaluations 10239, initial cost 3.0000e+04, final cost 4.6064e+03, first-order optimality 1.43e-01.\n"
     ]
    }
   ],
   "source": [
    "# Solve using Levenberg-Marquardt\n",
    "result = least_squares(residuals, initial_params, args=(X_train, y_train, lam), verbose=2, method='lm')"
   ]
  },
  {
   "cell_type": "code",
   "execution_count": 80,
   "metadata": {},
   "outputs": [
    {
     "name": "stdout",
     "output_type": "stream",
     "text": [
      "0.1432416738989669\n",
      "4606.444464978365\n"
     ]
    }
   ],
   "source": [
    "print(result.optimality)\n",
    "print(result.cost)"
   ]
  },
  {
   "cell_type": "code",
   "execution_count": 81,
   "metadata": {},
   "outputs": [],
   "source": [
    "# Extract optimized parameters\n",
    "beta_opt = result.x[:-1]\n",
    "v_opt = result.x[-1]"
   ]
  },
  {
   "cell_type": "code",
   "execution_count": 82,
   "metadata": {},
   "outputs": [],
   "source": [
    "# Predictions\n",
    "y_hat = np.sign(sigmoid(X_test @ beta_opt + v_opt))"
   ]
  },
  {
   "cell_type": "code",
   "execution_count": 83,
   "metadata": {},
   "outputs": [
    {
     "name": "stdout",
     "output_type": "stream",
     "text": [
      "Precisão de 96.44%\n"
     ]
    }
   ],
   "source": [
    "# compare y_hat with y_test\n",
    "accuracy = np.mean(y_hat == y_test)\n",
    "\n",
    "print(f'Precisão de {accuracy*100:.2f}%')"
   ]
  },
  {
   "cell_type": "code",
   "execution_count": 84,
   "metadata": {},
   "outputs": [],
   "source": [
    "# save x to weights/number.npy\n",
    "np.save(f'weights/{number}.npy', result.x)"
   ]
  }
 ],
 "metadata": {
  "kernelspec": {
   "display_name": "env",
   "language": "python",
   "name": "python3"
  },
  "language_info": {
   "codemirror_mode": {
    "name": "ipython",
    "version": 3
   },
   "file_extension": ".py",
   "mimetype": "text/x-python",
   "name": "python",
   "nbconvert_exporter": "python",
   "pygments_lexer": "ipython3",
   "version": "3.11.7"
  }
 },
 "nbformat": 4,
 "nbformat_minor": 2
}
