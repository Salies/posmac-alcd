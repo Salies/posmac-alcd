{
 "cells": [
  {
   "cell_type": "code",
   "execution_count": 7,
   "metadata": {},
   "outputs": [],
   "source": [
    "import numpy as np\n",
    "from tabulate import tabulate\n",
    "from scipy import linalg"
   ]
  },
  {
   "cell_type": "markdown",
   "metadata": {},
   "source": [
    "#### Definições"
   ]
  },
  {
   "cell_type": "code",
   "execution_count": 8,
   "metadata": {},
   "outputs": [],
   "source": [
    "n_to_test = [4, 6, 8, 10]\n",
    "eps = 2.2 * 1e-16"
   ]
  },
  {
   "cell_type": "markdown",
   "metadata": {},
   "source": [
    "$e_\\text{algoritmo} = \\frac{||\\tilde{X}_\\text{algoritmo} - A^\\dagger||_2}{\\epsilon_M ||A^\\dagger||_2 \\mathcal{k}_2(A)}$"
   ]
  },
  {
   "cell_type": "code",
   "execution_count": 9,
   "metadata": {},
   "outputs": [],
   "source": [
    "# fator de estabilidade\n",
    "def e_alg(X_alg, A_pinv):\n",
    "    # a norma padrão do numpy é 2\n",
    "    norm_diff = np.linalg.norm(X_alg - A_pinv)\n",
    "    norm_A_pinv = np.linalg.norm(A_pinv)\n",
    "    # igualmente, a condição padrão é 2\n",
    "    cond_A = np.linalg.cond(A_pinv)\n",
    "    return norm_diff / (eps * norm_A_pinv * cond_A)"
   ]
  },
  {
   "cell_type": "markdown",
   "metadata": {},
   "source": [
    "$res_\\text{algoritmo} = \\frac{||\\tilde{X}_\\text{algoritmo}A - I_n||_2}{||A||_2 ||\\tilde{X}_\\text{algoritmo}||_2}$"
   ]
  },
  {
   "cell_type": "code",
   "execution_count": 10,
   "metadata": {},
   "outputs": [],
   "source": [
    "# erro residual\n",
    "def res_alg(X_alg, A):\n",
    "    id = np.eye(A.shape[0]) # assumindo que A é quadrada\n",
    "    norm_diff = np.linalg.norm(X_alg @ A - id)\n",
    "    norm_A = np.linalg.norm(A)\n",
    "    norm_X_alg = np.linalg.norm(X_alg)\n",
    "    return norm_diff / (norm_A * norm_X_alg)"
   ]
  },
  {
   "cell_type": "code",
   "execution_count": 11,
   "metadata": {},
   "outputs": [],
   "source": [
    "def chol(A):\n",
    "    M = A.T @ A\n",
    "    # find the Cholesky factorization M = R^T R\n",
    "    R = np.linalg.cholesky(M, upper=True)\n",
    "    # Solve the equation RT RX = AT for X\n",
    "    # (by solving two equations with triangular matrices: R.T @ Y = A.T and R @ X = Y ).\n",
    "    Y = np.linalg.solve(R.T, A.T)\n",
    "    X = np.linalg.solve(R, Y)\n",
    "    return X"
   ]
  },
  {
   "cell_type": "code",
   "execution_count": 12,
   "metadata": {},
   "outputs": [],
   "source": [
    "def gs(a):\n",
    "    # coleção de vetores q, a ser construída\n",
    "    q = []\n",
    "    for i in range(len(a)):\n",
    "        # montando q~ (aqui chamado de qt, \"q til\")\n",
    "        qt = a[i]\n",
    "        for qi in q:\n",
    "            qt = np.subtract(qt, np.dot(qi, a[i]) * qi)\n",
    "        # se q~ = 0, sair\n",
    "        if np.linalg.norm(qt) == 0:\n",
    "            return q\n",
    "        # senão, normalize\n",
    "        q.append(qt / np.linalg.norm(qt))\n",
    "    return q"
   ]
  },
  {
   "cell_type": "code",
   "execution_count": 13,
   "metadata": {},
   "outputs": [],
   "source": [
    "def qr(A):\n",
    "    Qt = gs(A.T)\n",
    "    # Como sabe-se que A = QR ...\n",
    "    R_inv = np.linalg.inv(Qt @ A)\n",
    "    return R_inv @ Qt"
   ]
  },
  {
   "cell_type": "code",
   "execution_count": 14,
   "metadata": {},
   "outputs": [],
   "source": [
    "def mgs(a):\n",
    "    q = []\n",
    "    for i in range(len(a)):\n",
    "        qt = a[i]\n",
    "        for j in range(i):\n",
    "            r_ij = np.dot(q[j], qt)\n",
    "            qt = qt - r_ij * q[j]\n",
    "        norm_qt = np.linalg.norm(qt)\n",
    "        if norm_qt == 0:\n",
    "            return q\n",
    "        q.append(qt / norm_qt)\n",
    "    return q"
   ]
  },
  {
   "cell_type": "code",
   "execution_count": 15,
   "metadata": {},
   "outputs": [],
   "source": [
    "def qr_mgs(A):\n",
    "    Qt = mgs(A.T)\n",
    "    R_inv = np.linalg.inv(Qt @ A)\n",
    "    return R_inv @ Qt"
   ]
  },
  {
   "cell_type": "code",
   "execution_count": 16,
   "metadata": {},
   "outputs": [],
   "source": [
    "def svd(A):\n",
    "    U, S, Vt = np.linalg.svd(A)\n",
    "    S_inv = np.diag(1 / S)\n",
    "    return Vt.T @ S_inv @ U.T"
   ]
  },
  {
   "cell_type": "markdown",
   "metadata": {},
   "source": [
    "#### Bateria de testes final"
   ]
  },
  {
   "cell_type": "code",
   "execution_count": 17,
   "metadata": {},
   "outputs": [
    {
     "name": "stdout",
     "output_type": "stream",
     "text": [
      "Processando n = 4\n",
      "Processando n = 6\n",
      "Processando n = 8\n",
      "Processando n = 10\n"
     ]
    }
   ],
   "source": [
    "n_results = {}\n",
    "for n in n_to_test:\n",
    "    print('Processando n =', n)\n",
    "    A = linalg.pascal(n)\n",
    "    A_inv = np.linalg.inv(A) # não é necessário pseudoinversa\n",
    "    cond_A = np.linalg.cond(A)\n",
    "    # calculando as pseudo-inversas\n",
    "    X_chol = chol(A)\n",
    "    X_qr = qr(A)\n",
    "    X_qrp = qr_mgs(A)\n",
    "    X_svd = svd(A)\n",
    "    # calculando a estabilidade\n",
    "    e_chol = e_alg(X_chol, A_inv)\n",
    "    e_qr = e_alg(X_qr, A_inv)\n",
    "    e_qrp = e_alg(X_qrp, A_inv)\n",
    "    e_svd = e_alg(X_svd, A_inv)\n",
    "    # calculando o erro residual\n",
    "    res_chol = res_alg(X_chol, A)\n",
    "    res_qr = res_alg(X_qr, A)\n",
    "    res_qrm = res_alg(X_qrp, A)\n",
    "    res_svd = res_alg(X_svd, A)\n",
    "    # salvando os resultados\n",
    "    n_results[str(n)] = {\n",
    "        \"cond\": cond_A,\n",
    "        \"chol\": {\n",
    "            \"e\": e_chol,\n",
    "            \"res\": res_chol\n",
    "        },\n",
    "        \"qr\": {\n",
    "            \"e\": e_qr,\n",
    "            \"res\": res_qr\n",
    "        },\n",
    "        \"qrp\": {\n",
    "            \"e\": e_qrp,\n",
    "            \"res\": res_qrm\n",
    "        },\n",
    "        \"svd\": {\n",
    "            \"e\": e_svd,\n",
    "            \"res\": res_svd\n",
    "        }\n",
    "    }"
   ]
  },
  {
   "cell_type": "code",
   "execution_count": 18,
   "metadata": {},
   "outputs": [],
   "source": [
    "table_e = []\n",
    "table_res = []\n",
    "for n in n_results:\n",
    "    table_e.append([n, n_results[n][\"cond\"],\n",
    "                  n_results[n][\"chol\"][\"e\"],\n",
    "                  n_results[n][\"qr\"][\"e\"],\n",
    "                  n_results[n][\"qrp\"][\"e\"],\n",
    "                  n_results[n][\"svd\"][\"e\"]])\n",
    "    \n",
    "    table_res.append([n, n_results[n][\"cond\"],\n",
    "                    n_results[n][\"chol\"][\"res\"],\n",
    "                    n_results[n][\"qr\"][\"res\"],\n",
    "                    n_results[n][\"qrp\"][\"res\"],\n",
    "                    n_results[n][\"svd\"][\"res\"]])"
   ]
  },
  {
   "cell_type": "code",
   "execution_count": 19,
   "metadata": {},
   "outputs": [
    {
     "data": {
      "text/html": [
       "<table>\n",
       "<thead>\n",
       "<tr><th style=\"text-align: right;\">  n</th><th style=\"text-align: right;\">         cond(A)</th><th style=\"text-align: right;\">      e_chol</th><th style=\"text-align: right;\">       e_qr</th><th style=\"text-align: right;\">     e_qrp</th><th style=\"text-align: right;\">     e_svd</th></tr>\n",
       "</thead>\n",
       "<tbody>\n",
       "<tr><td style=\"text-align: right;\">  4</td><td style=\"text-align: right;\">   691.937      </td><td style=\"text-align: right;\">     5.88844</td><td style=\"text-align: right;\">0.0485463  </td><td style=\"text-align: right;\">0.0485463 </td><td style=\"text-align: right;\">0.0398529 </td></tr>\n",
       "<tr><td style=\"text-align: right;\">  6</td><td style=\"text-align: right;\">110787          </td><td style=\"text-align: right;\">  1462.75   </td><td style=\"text-align: right;\">0.00759626 </td><td style=\"text-align: right;\">0.0111812 </td><td style=\"text-align: right;\">0.024572  </td></tr>\n",
       "<tr><td style=\"text-align: right;\">  8</td><td style=\"text-align: right;\">     2.06452e+07</td><td style=\"text-align: right;\"> 74456.2    </td><td style=\"text-align: right;\">0.000392955</td><td style=\"text-align: right;\">0.00270495</td><td style=\"text-align: right;\">0.0103029 </td></tr>\n",
       "<tr><td style=\"text-align: right;\"> 10</td><td style=\"text-align: right;\">     4.15521e+09</td><td style=\"text-align: right;\">776141      </td><td style=\"text-align: right;\">0.00783289 </td><td style=\"text-align: right;\">0.00158502</td><td style=\"text-align: right;\">0.00408852</td></tr>\n",
       "</tbody>\n",
       "</table>"
      ],
      "text/plain": [
       "'<table>\\n<thead>\\n<tr><th style=\"text-align: right;\">  n</th><th style=\"text-align: right;\">         cond(A)</th><th style=\"text-align: right;\">      e_chol</th><th style=\"text-align: right;\">       e_qr</th><th style=\"text-align: right;\">     e_qrp</th><th style=\"text-align: right;\">     e_svd</th></tr>\\n</thead>\\n<tbody>\\n<tr><td style=\"text-align: right;\">  4</td><td style=\"text-align: right;\">   691.937      </td><td style=\"text-align: right;\">     5.88844</td><td style=\"text-align: right;\">0.0485463  </td><td style=\"text-align: right;\">0.0485463 </td><td style=\"text-align: right;\">0.0398529 </td></tr>\\n<tr><td style=\"text-align: right;\">  6</td><td style=\"text-align: right;\">110787          </td><td style=\"text-align: right;\">  1462.75   </td><td style=\"text-align: right;\">0.00759626 </td><td style=\"text-align: right;\">0.0111812 </td><td style=\"text-align: right;\">0.024572  </td></tr>\\n<tr><td style=\"text-align: right;\">  8</td><td style=\"text-align: right;\">     2.06452e+07</td><td style=\"text-align: right;\"> 74456.2    </td><td style=\"text-align: right;\">0.000392955</td><td style=\"text-align: right;\">0.00270495</td><td style=\"text-align: right;\">0.0103029 </td></tr>\\n<tr><td style=\"text-align: right;\"> 10</td><td style=\"text-align: right;\">     4.15521e+09</td><td style=\"text-align: right;\">776141      </td><td style=\"text-align: right;\">0.00783289 </td><td style=\"text-align: right;\">0.00158502</td><td style=\"text-align: right;\">0.00408852</td></tr>\\n</tbody>\\n</table>'"
      ]
     },
     "execution_count": 19,
     "metadata": {},
     "output_type": "execute_result"
    }
   ],
   "source": [
    "tabulate(table_e, headers=[\"n\", \"cond(A)\", \"e_chol\", \"e_qr\", \"e_qrp\", \"e_svd\"], tablefmt=\"html\")"
   ]
  },
  {
   "cell_type": "code",
   "execution_count": 20,
   "metadata": {},
   "outputs": [
    {
     "data": {
      "text/html": [
       "<table>\n",
       "<thead>\n",
       "<tr><th style=\"text-align: right;\">  n</th><th style=\"text-align: right;\">         cond(A)</th><th style=\"text-align: right;\">   res_chol</th><th style=\"text-align: right;\">     res_qr</th><th style=\"text-align: right;\">    res_qrm</th><th style=\"text-align: right;\">    res_svd</th></tr>\n",
       "</thead>\n",
       "<tbody>\n",
       "<tr><td style=\"text-align: right;\">  4</td><td style=\"text-align: right;\">   691.937      </td><td style=\"text-align: right;\">7.23672e-15</td><td style=\"text-align: right;\">2.56569e-17</td><td style=\"text-align: right;\">2.56569e-17</td><td style=\"text-align: right;\">9.2209e-17 </td></tr>\n",
       "<tr><td style=\"text-align: right;\">  6</td><td style=\"text-align: right;\">110787          </td><td style=\"text-align: right;\">1.4247e-12 </td><td style=\"text-align: right;\">1.01231e-17</td><td style=\"text-align: right;\">1.04561e-17</td><td style=\"text-align: right;\">1.69327e-17</td></tr>\n",
       "<tr><td style=\"text-align: right;\">  8</td><td style=\"text-align: right;\">     2.06452e+07</td><td style=\"text-align: right;\">1.00414e-10</td><td style=\"text-align: right;\">6.76615e-18</td><td style=\"text-align: right;\">3.56146e-18</td><td style=\"text-align: right;\">2.32762e-17</td></tr>\n",
       "<tr><td style=\"text-align: right;\"> 10</td><td style=\"text-align: right;\">     4.15521e+09</td><td style=\"text-align: right;\">3.55231e-08</td><td style=\"text-align: right;\">2.55417e-16</td><td style=\"text-align: right;\">3.67476e-18</td><td style=\"text-align: right;\">1.27665e-17</td></tr>\n",
       "</tbody>\n",
       "</table>"
      ],
      "text/plain": [
       "'<table>\\n<thead>\\n<tr><th style=\"text-align: right;\">  n</th><th style=\"text-align: right;\">         cond(A)</th><th style=\"text-align: right;\">   res_chol</th><th style=\"text-align: right;\">     res_qr</th><th style=\"text-align: right;\">    res_qrm</th><th style=\"text-align: right;\">    res_svd</th></tr>\\n</thead>\\n<tbody>\\n<tr><td style=\"text-align: right;\">  4</td><td style=\"text-align: right;\">   691.937      </td><td style=\"text-align: right;\">7.23672e-15</td><td style=\"text-align: right;\">2.56569e-17</td><td style=\"text-align: right;\">2.56569e-17</td><td style=\"text-align: right;\">9.2209e-17 </td></tr>\\n<tr><td style=\"text-align: right;\">  6</td><td style=\"text-align: right;\">110787          </td><td style=\"text-align: right;\">1.4247e-12 </td><td style=\"text-align: right;\">1.01231e-17</td><td style=\"text-align: right;\">1.04561e-17</td><td style=\"text-align: right;\">1.69327e-17</td></tr>\\n<tr><td style=\"text-align: right;\">  8</td><td style=\"text-align: right;\">     2.06452e+07</td><td style=\"text-align: right;\">1.00414e-10</td><td style=\"text-align: right;\">6.76615e-18</td><td style=\"text-align: right;\">3.56146e-18</td><td style=\"text-align: right;\">2.32762e-17</td></tr>\\n<tr><td style=\"text-align: right;\"> 10</td><td style=\"text-align: right;\">     4.15521e+09</td><td style=\"text-align: right;\">3.55231e-08</td><td style=\"text-align: right;\">2.55417e-16</td><td style=\"text-align: right;\">3.67476e-18</td><td style=\"text-align: right;\">1.27665e-17</td></tr>\\n</tbody>\\n</table>'"
      ]
     },
     "execution_count": 20,
     "metadata": {},
     "output_type": "execute_result"
    }
   ],
   "source": [
    "tabulate(table_res, headers=[\"n\", \"cond(A)\", \"res_chol\", \"res_qr\", \"res_qrm\", \"res_svd\"], tablefmt=\"html\")"
   ]
  },
  {
   "cell_type": "markdown",
   "metadata": {},
   "source": [
    "Como podemos ver, o QR com Gram-Schmidt modificado é, de fato, mais estável."
   ]
  },
  {
   "cell_type": "markdown",
   "metadata": {},
   "source": [
    "### Outras decomposições"
   ]
  },
  {
   "cell_type": "markdown",
   "metadata": {},
   "source": [
    "#### TS"
   ]
  },
  {
   "cell_type": "markdown",
   "metadata": {},
   "source": [
    "Theorem 2.1. For every nonsingular and nonsymmetric n×n matrix A, whose\n",
    "leading principal submatrices are nonsingular, there exists a decomposition A = ST\n",
    "where S is symmetric and T is unit triangular."
   ]
  },
  {
   "attachments": {
    "image.png": {
     "image/png": "[encoded data removed]"
    }
   },
   "cell_type": "markdown",
   "metadata": {},
   "source": [
    "![image.png](attachment:image.png)"
   ]
  },
  {
   "cell_type": "code",
   "execution_count": 21,
   "metadata": {},
   "outputs": [],
   "source": [
    "# checa se a matriz é não-singular e assimétrica\n",
    "def check_st(A):\n",
    "    return np.linalg.det(A) != 0 and (not np.allclose(A, A.T))"
   ]
  },
  {
   "cell_type": "code",
   "execution_count": 22,
   "metadata": {},
   "outputs": [
    {
     "data": {
      "text/plain": [
       "True"
      ]
     },
     "execution_count": 22,
     "metadata": {},
     "output_type": "execute_result"
    }
   ],
   "source": [
    "# create random 3x3 matrix\n",
    "np.random.seed(6661)\n",
    "A = np.random.rand(4, 4)\n",
    "check_st(A)"
   ]
  },
  {
   "cell_type": "code",
   "execution_count": 23,
   "metadata": {},
   "outputs": [
    {
     "data": {
      "text/plain": [
       "array([[0.44762768, 0.73308449, 0.31958249, 0.87627054],\n",
       "       [0.05225297, 0.91087698, 0.38512147, 0.68885618],\n",
       "       [0.92406379, 0.76413956, 0.5401413 , 0.9579965 ],\n",
       "       [0.41066384, 0.63203731, 0.14754275, 0.28875699]])"
      ]
     },
     "execution_count": 23,
     "metadata": {},
     "output_type": "execute_result"
    }
   ],
   "source": [
    "A"
   ]
  },
  {
   "cell_type": "markdown",
   "metadata": {},
   "source": [
    "Não consegui implementar o algoritmo do artigo original 😔\n",
    "\n",
    "Vou tentar uma abordagem diferente, e depois tirar minhas dúvidas."
   ]
  },
  {
   "cell_type": "code",
   "execution_count": 24,
   "metadata": {},
   "outputs": [
    {
     "name": "stdout",
     "output_type": "stream",
     "text": [
      "True\n",
      "True\n"
     ]
    }
   ],
   "source": [
    "# usando o truque deste artigo\n",
    "# https://www.jmest.org/wp-content/uploads/JMESTN42352851.pdf\n",
    "\n",
    "l, u = linalg.lu(A, permute_l=True)\n",
    "# T = L*(U')^(-1) \n",
    "T = l @ np.linalg.inv(u.T)\n",
    "# T  - zero below threshold\n",
    "T[np.abs(T) < 1e-10] = 0\n",
    "# S = U'*U;\n",
    "S = u.T @ u\n",
    "# Check A = T*S;\n",
    "print(np.allclose(A, T @ S))\n",
    "# Check S is symmetric\n",
    "print(np.allclose(S, S.T))"
   ]
  },
  {
   "cell_type": "markdown",
   "metadata": {},
   "source": [
    "#### Conjugada"
   ]
  },
  {
   "cell_type": "code",
   "execution_count": 25,
   "metadata": {},
   "outputs": [
    {
     "data": {
      "text/plain": [
       "np.int64(4)"
      ]
     },
     "execution_count": 25,
     "metadata": {},
     "output_type": "execute_result"
    }
   ],
   "source": [
    "A = np.random.rand(4, 4)\n",
    "# k = rank of A\n",
    "k = np.linalg.matrix_rank(A)\n",
    "k"
   ]
  },
  {
   "cell_type": "code",
   "execution_count": 26,
   "metadata": {},
   "outputs": [],
   "source": [
    "r1 = np.random.rand(A.shape[1])\n",
    "# p1 = r1 / ||r1||_2\n",
    "p1 = r1 / np.linalg.norm(r1)\n",
    "\n",
    "p = np.zeros((k, A.shape[1]))\n",
    "r = np.zeros((k, A.shape[1]))\n",
    "q = np.zeros((k, A.shape[1]))\n",
    "r[0] = r1\n",
    "p[0] = p1\n",
    "for i in range(1, k):\n",
    "    #print(i)\n",
    "    # q = A @ p_{i-1}\n",
    "    qk = A @ p[i-1]\n",
    "    #print(qk.shape)\n",
    "    r[i] = r[i-1] - A.T @ qk\n",
    "    p[i] = r[i] + p[i-1]\n",
    "    p[i] = p[i] / np.linalg.norm(p[i])\n",
    "    #print(q[i].shape)\n",
    "    #print((1 / np.sqrt(qk.T @ qk)))\n",
    "    q[i] = (1 / np.sqrt(qk.T @ qk)) * qk\n",
    "\n",
    "#  Choose pj orthonormal to all pi for i = 1,···,k and j = k + 1,···,n in null space of A.\n",
    "ns = linalg.null_space(A)\n",
    "\n",
    "for i in range(k, A.shape[1]):\n",
    "    p[i] = ns[:, i - k]\n",
    "    q[i] = (1 / np.sqrt(p[i].T @ p[i])) @ p[i]\n",
    "\n",
    "# Choose qj orthonormal to qi with qj 2 =1 in R^m.\n",
    "for i in range(k, A.shape[1]):\n",
    "    for j in range(i + 1, A.shape[1]):\n",
    "        q[j] = q[j] - (q[j].T @ q[i]) * q[i]\n",
    "    q[j] = q[j] / np.linalg.norm(q[j])\n",
    "\n",
    "# sigma[i] = sqrt(p[i].T @ A.T @ A @ p[i])\n",
    "sigma = np.zeros(k)\n",
    "for i in range(k):\n",
    "    sigma[i] = np.sqrt(p[i].T @ A.T @ A @ p[i])\n",
    "\n",
    "# Q = [q1, q2, ..., qn]\n",
    "Q = q.T\n",
    "P = p.T"
   ]
  },
  {
   "cell_type": "code",
   "execution_count": 27,
   "metadata": {},
   "outputs": [
    {
     "data": {
      "text/plain": [
       "array([[0.0224107 , 0.77795325, 0.54961747, 0.72839443],\n",
       "       [0.4924447 , 0.89850655, 0.25272106, 0.4657542 ],\n",
       "       [0.39801513, 0.47499047, 0.81074773, 0.11801541],\n",
       "       [0.93756087, 0.86193651, 0.16010041, 0.65493856]])"
      ]
     },
     "execution_count": 27,
     "metadata": {},
     "output_type": "execute_result"
    }
   ],
   "source": [
    "A"
   ]
  },
  {
   "cell_type": "code",
   "execution_count": 28,
   "metadata": {},
   "outputs": [
    {
     "data": {
      "text/plain": [
       "array([[ 584.74818476,    5.81493635, -793.86293328,   45.03220454],\n",
       "       [ 530.79792139,    5.58194325, -721.08608616,   40.83864611],\n",
       "       [ 361.17310461,    3.85957597, -490.48990072,   27.72006235],\n",
       "       [ 676.24306346,    6.89025273, -918.11916369,   52.00722559]])"
      ]
     },
     "execution_count": 28,
     "metadata": {},
     "output_type": "execute_result"
    }
   ],
   "source": [
    "Q @ np.diag(sigma) @ np.linalg.pinv(P)"
   ]
  },
  {
   "cell_type": "markdown",
   "metadata": {},
   "source": [
    "Tudo errado! Vou tirar minhas dúvidas e corrigir depois."
   ]
  }
 ],
 "metadata": {
  "kernelspec": {
   "display_name": ".venv",
   "language": "python",
   "name": "python3"
  },
  "language_info": {
   "codemirror_mode": {
    "name": "ipython",
    "version": 3
   },
   "file_extension": ".py",
   "mimetype": "text/x-python",
   "name": "python",
   "nbconvert_exporter": "python",
   "pygments_lexer": "ipython3",
   "version": "3.10.11"
  }
 },
 "nbformat": 4,
 "nbformat_minor": 2
}
