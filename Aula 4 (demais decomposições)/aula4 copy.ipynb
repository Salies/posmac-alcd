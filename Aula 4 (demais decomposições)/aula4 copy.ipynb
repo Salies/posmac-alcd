{
 "cells": [
  {
   "cell_type": "code",
   "execution_count": 87,
   "metadata": {},
   "outputs": [],
   "source": [
    "import numpy as np\n",
    "from tabulate import tabulate\n",
    "from scipy import linalg"
   ]
  },
  {
   "cell_type": "markdown",
   "metadata": {},
   "source": [
    "#### Definições"
   ]
  },
  {
   "cell_type": "code",
   "execution_count": 88,
   "metadata": {},
   "outputs": [],
   "source": [
    "n_to_test = [4, 6, 8, 10]\n",
    "eps = 2.2 * 1e-16"
   ]
  },
  {
   "cell_type": "markdown",
   "metadata": {},
   "source": [
    "$e_\\text{algoritmo} = \\frac{||\\tilde{X}_\\text{algoritmo} - A^\\dagger||_2}{\\epsilon_M ||A^\\dagger||_2 \\mathcal{k}_2(A)}$"
   ]
  },
  {
   "cell_type": "code",
   "execution_count": 89,
   "metadata": {},
   "outputs": [],
   "source": [
    "# fator de estabilidade\n",
    "def e_alg(X_alg, A_pinv):\n",
    "    # a norma padrão do numpy é 2\n",
    "    norm_diff = np.linalg.norm(X_alg - A_pinv)\n",
    "    norm_A_pinv = np.linalg.norm(A_pinv)\n",
    "    # igualmente, a condição padrão é 2\n",
    "    cond_A = np.linalg.cond(A_pinv)\n",
    "    return norm_diff / (eps * norm_A_pinv * cond_A)"
   ]
  },
  {
   "cell_type": "markdown",
   "metadata": {},
   "source": [
    "$res_\\text{algoritmo} = \\frac{||\\tilde{X}_\\text{algoritmo}A - I_n||_2}{||A||_2 ||\\tilde{X}_\\text{algoritmo}||_2}$"
   ]
  },
  {
   "cell_type": "code",
   "execution_count": 90,
   "metadata": {},
   "outputs": [],
   "source": [
    "# erro residual\n",
    "def res_alg(X_alg, A):\n",
    "    id = np.eye(A.shape[0]) # assumindo que A é quadrada\n",
    "    norm_diff = np.linalg.norm(X_alg @ A - id)\n",
    "    norm_A = np.linalg.norm(A)\n",
    "    norm_X_alg = np.linalg.norm(X_alg)\n",
    "    return norm_diff / (norm_A * norm_X_alg)"
   ]
  },
  {
   "cell_type": "code",
   "execution_count": 91,
   "metadata": {},
   "outputs": [],
   "source": [
    "def chol(A):\n",
    "    M = A.T @ A\n",
    "    # find the Cholesky factorization M = R^T R\n",
    "    R = np.linalg.cholesky(M, upper=True)\n",
    "    # Solve the equation RT RX = AT for X\n",
    "    # (by solving two equations with triangular matrices: R.T @ Y = A.T and R @ X = Y ).\n",
    "    Y = np.linalg.solve(R.T, A.T)\n",
    "    X = np.linalg.solve(R, Y)\n",
    "    return X"
   ]
  },
  {
   "cell_type": "code",
   "execution_count": 92,
   "metadata": {},
   "outputs": [],
   "source": [
    "def qr(A):\n",
    "    Q, R = np.linalg.qr(A)\n",
    "    return np.linalg.solve(R, Q.T)"
   ]
  },
  {
   "cell_type": "code",
   "execution_count": 95,
   "metadata": {},
   "outputs": [],
   "source": [
    "def gs(a):\n",
    "    # coleção de vetores q, a ser construída\n",
    "    q = []\n",
    "    for i in range(len(a)):\n",
    "        # montando q~ (aqui chamado de qt, \"q til\")\n",
    "        qt = a[i]\n",
    "        for qi in q:\n",
    "            qt = np.subtract(qt, np.dot(qi, a[i]) * qi)\n",
    "        # se q~ = 0, sair\n",
    "        if np.linalg.norm(qt) == 0:\n",
    "            return q\n",
    "        # senão, normalize\n",
    "        q.append(qt / np.linalg.norm(qt))\n",
    "    return q"
   ]
  },
  {
   "cell_type": "code",
   "execution_count": null,
   "metadata": {},
   "outputs": [],
   "source": [
    "def mgs(a):\n",
    "    "
   ]
  },
  {
   "cell_type": "code",
   "execution_count": 96,
   "metadata": {},
   "outputs": [],
   "source": [
    "def qr_normal(A):\n",
    "    Qt = gs(A.T)\n",
    "    # Como sabe-se que A = QR ...\n",
    "    R_inv = np.linalg.inv(Qt @ A)\n",
    "    return R_inv @ Qt"
   ]
  },
  {
   "cell_type": "code",
   "execution_count": 97,
   "metadata": {},
   "outputs": [
    {
     "data": {
      "text/plain": [
       "array([[1, 2, 3],\n",
       "       [4, 5, 6],\n",
       "       [7, 8, 9]])"
      ]
     },
     "execution_count": 97,
     "metadata": {},
     "output_type": "execute_result"
    }
   ],
   "source": [
    "A = [\n",
    "    [1, 2, 3],\n",
    "    [4, 5, 6],\n",
    "    [7, 8, 9]\n",
    "]\n",
    "\n",
    "A = np.array(A)\n",
    "A"
   ]
  },
  {
   "cell_type": "code",
   "execution_count": 98,
   "metadata": {},
   "outputs": [
    {
     "data": {
      "text/plain": [
       "array([[ 2.11312592e+14,  2.37726667e+14,  3.69797037e+14],\n",
       "       [-4.22625185e+14, -4.75453333e+14, -7.39594074e+14],\n",
       "       [ 2.11312592e+14,  2.37726667e+14,  3.69797037e+14]])"
      ]
     },
     "execution_count": 98,
     "metadata": {},
     "output_type": "execute_result"
    }
   ],
   "source": [
    "qr_mgs(A)"
   ]
  },
  {
   "cell_type": "code",
   "execution_count": 99,
   "metadata": {},
   "outputs": [
    {
     "data": {
      "text/plain": [
       "array([[-5.38024702e+14,  1.07604940e+15, -5.38024702e+14],\n",
       "       [ 1.07604940e+15, -2.15209881e+15,  1.07604940e+15],\n",
       "       [-5.38024702e+14,  1.07604940e+15, -5.38024702e+14]])"
      ]
     },
     "execution_count": 99,
     "metadata": {},
     "output_type": "execute_result"
    }
   ],
   "source": [
    "qr(A)"
   ]
  },
  {
   "cell_type": "code",
   "execution_count": 100,
   "metadata": {},
   "outputs": [],
   "source": [
    "def svd(A):\n",
    "    U, S, Vt = np.linalg.svd(A)\n",
    "    S_inv = np.diag(1 / S)\n",
    "    return Vt.T @ S_inv @ U.T"
   ]
  },
  {
   "cell_type": "markdown",
   "metadata": {},
   "source": [
    "#### Bateria de testes final"
   ]
  },
  {
   "cell_type": "code",
   "execution_count": 101,
   "metadata": {},
   "outputs": [
    {
     "name": "stdout",
     "output_type": "stream",
     "text": [
      "Processando n = 4\n",
      "Processando n = 6\n",
      "Processando n = 8\n",
      "Processando n = 10\n"
     ]
    }
   ],
   "source": [
    "n_results = {}\n",
    "for n in n_to_test:\n",
    "    print('Processando n =', n)\n",
    "    A = linalg.pascal(n)\n",
    "    A_inv = np.linalg.inv(A) # não é necessário pseudoinversa\n",
    "    cond_A = np.linalg.cond(A)\n",
    "    # calculando as pseudo-inversas\n",
    "    X_chol = chol(A)\n",
    "    #X_qr = qr(A)\n",
    "    X_qr = qr_normal(A)\n",
    "    #X_qrp = qr_pivot(A)\n",
    "    X_qrp = qr_mgs(A)\n",
    "    #X_qrp = gs(A)\n",
    "    X_svd = svd(A)\n",
    "    # calculando a estabilidade\n",
    "    e_chol = e_alg(X_chol, A_inv)\n",
    "    e_qr = e_alg(X_qr, A_inv)\n",
    "    e_qrp = e_alg(X_qrp, A_inv)\n",
    "    e_svd = e_alg(X_svd, A_inv)\n",
    "    # calculando o erro residual\n",
    "    res_chol = res_alg(X_chol, A)\n",
    "    res_qr = res_alg(X_qr, A)\n",
    "    res_qrp = res_alg(X_qrp, A)\n",
    "    res_svd = res_alg(X_svd, A)\n",
    "    # salvando os resultados\n",
    "    n_results[str(n)] = {\n",
    "        \"cond\": cond_A,\n",
    "        \"chol\": {\n",
    "            \"e\": e_chol,\n",
    "            \"res\": res_chol\n",
    "        },\n",
    "        \"qr\": {\n",
    "            \"e\": e_qr,\n",
    "            \"res\": res_qr\n",
    "        },\n",
    "        \"qrp\": {\n",
    "            \"e\": e_qrp,\n",
    "            \"res\": res_qrp\n",
    "        },\n",
    "        \"svd\": {\n",
    "            \"e\": e_svd,\n",
    "            \"res\": res_svd\n",
    "        }\n",
    "    }"
   ]
  },
  {
   "cell_type": "code",
   "execution_count": 102,
   "metadata": {},
   "outputs": [],
   "source": [
    "table_e = []\n",
    "table_res = []\n",
    "for n in n_results:\n",
    "    table_e.append([n, n_results[n][\"cond\"],\n",
    "                  n_results[n][\"chol\"][\"e\"],\n",
    "                  n_results[n][\"qr\"][\"e\"],\n",
    "                  n_results[n][\"qrp\"][\"e\"],\n",
    "                  n_results[n][\"svd\"][\"e\"]])\n",
    "    \n",
    "    table_res.append([n, n_results[n][\"cond\"],\n",
    "                    n_results[n][\"chol\"][\"res\"],\n",
    "                    n_results[n][\"qr\"][\"res\"],\n",
    "                    n_results[n][\"qrp\"][\"res\"],\n",
    "                    n_results[n][\"svd\"][\"res\"]])"
   ]
  },
  {
   "cell_type": "code",
   "execution_count": 103,
   "metadata": {},
   "outputs": [
    {
     "data": {
      "text/html": [
       "<table>\n",
       "<thead>\n",
       "<tr><th style=\"text-align: right;\">  n</th><th style=\"text-align: right;\">         cond(A)</th><th style=\"text-align: right;\">      e_chol</th><th style=\"text-align: right;\">       e_qr</th><th style=\"text-align: right;\">     e_qrp</th><th style=\"text-align: right;\">     e_svd</th></tr>\n",
       "</thead>\n",
       "<tbody>\n",
       "<tr><td style=\"text-align: right;\">  4</td><td style=\"text-align: right;\">   691.937      </td><td style=\"text-align: right;\">     5.88844</td><td style=\"text-align: right;\">0.0485463  </td><td style=\"text-align: right;\">0.0424779 </td><td style=\"text-align: right;\">0.0398529 </td></tr>\n",
       "<tr><td style=\"text-align: right;\">  6</td><td style=\"text-align: right;\">110787          </td><td style=\"text-align: right;\">  1462.75   </td><td style=\"text-align: right;\">0.00759626 </td><td style=\"text-align: right;\">0.0734328 </td><td style=\"text-align: right;\">0.024572  </td></tr>\n",
       "<tr><td style=\"text-align: right;\">  8</td><td style=\"text-align: right;\">     2.06452e+07</td><td style=\"text-align: right;\"> 74456.2    </td><td style=\"text-align: right;\">0.000392955</td><td style=\"text-align: right;\">0.015287  </td><td style=\"text-align: right;\">0.0103029 </td></tr>\n",
       "<tr><td style=\"text-align: right;\"> 10</td><td style=\"text-align: right;\">     4.15521e+09</td><td style=\"text-align: right;\">776141      </td><td style=\"text-align: right;\">0.00783289 </td><td style=\"text-align: right;\">0.00738499</td><td style=\"text-align: right;\">0.00408852</td></tr>\n",
       "</tbody>\n",
       "</table>"
      ],
      "text/plain": [
       "'<table>\\n<thead>\\n<tr><th style=\"text-align: right;\">  n</th><th style=\"text-align: right;\">         cond(A)</th><th style=\"text-align: right;\">      e_chol</th><th style=\"text-align: right;\">       e_qr</th><th style=\"text-align: right;\">     e_qrp</th><th style=\"text-align: right;\">     e_svd</th></tr>\\n</thead>\\n<tbody>\\n<tr><td style=\"text-align: right;\">  4</td><td style=\"text-align: right;\">   691.937      </td><td style=\"text-align: right;\">     5.88844</td><td style=\"text-align: right;\">0.0485463  </td><td style=\"text-align: right;\">0.0424779 </td><td style=\"text-align: right;\">0.0398529 </td></tr>\\n<tr><td style=\"text-align: right;\">  6</td><td style=\"text-align: right;\">110787          </td><td style=\"text-align: right;\">  1462.75   </td><td style=\"text-align: right;\">0.00759626 </td><td style=\"text-align: right;\">0.0734328 </td><td style=\"text-align: right;\">0.024572  </td></tr>\\n<tr><td style=\"text-align: right;\">  8</td><td style=\"text-align: right;\">     2.06452e+07</td><td style=\"text-align: right;\"> 74456.2    </td><td style=\"text-align: right;\">0.000392955</td><td style=\"text-align: right;\">0.015287  </td><td style=\"text-align: right;\">0.0103029 </td></tr>\\n<tr><td style=\"text-align: right;\"> 10</td><td style=\"text-align: right;\">     4.15521e+09</td><td style=\"text-align: right;\">776141      </td><td style=\"text-align: right;\">0.00783289 </td><td style=\"text-align: right;\">0.00738499</td><td style=\"text-align: right;\">0.00408852</td></tr>\\n</tbody>\\n</table>'"
      ]
     },
     "execution_count": 103,
     "metadata": {},
     "output_type": "execute_result"
    }
   ],
   "source": [
    "tabulate(table_e, headers=[\"n\", \"cond(A)\", \"e_chol\", \"e_qr\", \"e_qrp\", \"e_svd\"], tablefmt=\"html\")"
   ]
  },
  {
   "cell_type": "code",
   "execution_count": 104,
   "metadata": {},
   "outputs": [
    {
     "data": {
      "text/html": [
       "<table>\n",
       "<thead>\n",
       "<tr><th style=\"text-align: right;\">  n</th><th style=\"text-align: right;\">         cond(A)</th><th style=\"text-align: right;\">   res_chol</th><th style=\"text-align: right;\">     res_qr</th><th style=\"text-align: right;\">    res_qrp</th><th style=\"text-align: right;\">    res_svd</th></tr>\n",
       "</thead>\n",
       "<tbody>\n",
       "<tr><td style=\"text-align: right;\">  4</td><td style=\"text-align: right;\">   691.937      </td><td style=\"text-align: right;\">7.23672e-15</td><td style=\"text-align: right;\">2.56569e-17</td><td style=\"text-align: right;\">3.60362e-15</td><td style=\"text-align: right;\">9.2209e-17 </td></tr>\n",
       "<tr><td style=\"text-align: right;\">  6</td><td style=\"text-align: right;\">110787          </td><td style=\"text-align: right;\">1.4247e-12 </td><td style=\"text-align: right;\">1.01231e-17</td><td style=\"text-align: right;\">1.12242e-12</td><td style=\"text-align: right;\">1.69327e-17</td></tr>\n",
       "<tr><td style=\"text-align: right;\">  8</td><td style=\"text-align: right;\">     2.06452e+07</td><td style=\"text-align: right;\">1.00414e-10</td><td style=\"text-align: right;\">6.76615e-18</td><td style=\"text-align: right;\">1.83025e-11</td><td style=\"text-align: right;\">2.32762e-17</td></tr>\n",
       "<tr><td style=\"text-align: right;\"> 10</td><td style=\"text-align: right;\">     4.15521e+09</td><td style=\"text-align: right;\">3.55231e-08</td><td style=\"text-align: right;\">2.55417e-16</td><td style=\"text-align: right;\">4.77016e-09</td><td style=\"text-align: right;\">1.27665e-17</td></tr>\n",
       "</tbody>\n",
       "</table>"
      ],
      "text/plain": [
       "'<table>\\n<thead>\\n<tr><th style=\"text-align: right;\">  n</th><th style=\"text-align: right;\">         cond(A)</th><th style=\"text-align: right;\">   res_chol</th><th style=\"text-align: right;\">     res_qr</th><th style=\"text-align: right;\">    res_qrp</th><th style=\"text-align: right;\">    res_svd</th></tr>\\n</thead>\\n<tbody>\\n<tr><td style=\"text-align: right;\">  4</td><td style=\"text-align: right;\">   691.937      </td><td style=\"text-align: right;\">7.23672e-15</td><td style=\"text-align: right;\">2.56569e-17</td><td style=\"text-align: right;\">3.60362e-15</td><td style=\"text-align: right;\">9.2209e-17 </td></tr>\\n<tr><td style=\"text-align: right;\">  6</td><td style=\"text-align: right;\">110787          </td><td style=\"text-align: right;\">1.4247e-12 </td><td style=\"text-align: right;\">1.01231e-17</td><td style=\"text-align: right;\">1.12242e-12</td><td style=\"text-align: right;\">1.69327e-17</td></tr>\\n<tr><td style=\"text-align: right;\">  8</td><td style=\"text-align: right;\">     2.06452e+07</td><td style=\"text-align: right;\">1.00414e-10</td><td style=\"text-align: right;\">6.76615e-18</td><td style=\"text-align: right;\">1.83025e-11</td><td style=\"text-align: right;\">2.32762e-17</td></tr>\\n<tr><td style=\"text-align: right;\"> 10</td><td style=\"text-align: right;\">     4.15521e+09</td><td style=\"text-align: right;\">3.55231e-08</td><td style=\"text-align: right;\">2.55417e-16</td><td style=\"text-align: right;\">4.77016e-09</td><td style=\"text-align: right;\">1.27665e-17</td></tr>\\n</tbody>\\n</table>'"
      ]
     },
     "execution_count": 104,
     "metadata": {},
     "output_type": "execute_result"
    }
   ],
   "source": [
    "tabulate(table_res, headers=[\"n\", \"cond(A)\", \"res_chol\", \"res_qr\", \"res_qrp\", \"res_svd\"], tablefmt=\"html\")"
   ]
  }
 ],
 "metadata": {
  "kernelspec": {
   "display_name": ".venv",
   "language": "python",
   "name": "python3"
  },
  "language_info": {
   "codemirror_mode": {
    "name": "ipython",
    "version": 3
   },
   "file_extension": ".py",
   "mimetype": "text/x-python",
   "name": "python",
   "nbconvert_exporter": "python",
   "pygments_lexer": "ipython3",
   "version": "3.10.11"
  }
 },
 "nbformat": 4,
 "nbformat_minor": 2
}
