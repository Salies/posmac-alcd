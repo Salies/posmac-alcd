{
 "cells": [
  {
   "cell_type": "code",
   "execution_count": 40,
   "metadata": {},
   "outputs": [],
   "source": [
    "#%pip install openai"
   ]
  },
  {
   "cell_type": "code",
   "execution_count": 41,
   "metadata": {},
   "outputs": [],
   "source": [
    "import pandas as pd\n",
    "import numpy as np\n",
    "from openai import OpenAI"
   ]
  },
  {
   "cell_type": "code",
   "execution_count": 42,
   "metadata": {},
   "outputs": [],
   "source": [
    "client = OpenAI(api_key='batata', base_url=\"http://127.0.0.1:1234/v1\")"
   ]
  },
  {
   "cell_type": "code",
   "execution_count": 43,
   "metadata": {},
   "outputs": [
    {
     "data": {
      "text/html": [
       "<div>\n",
       "<style scoped>\n",
       "    .dataframe tbody tr th:only-of-type {\n",
       "        vertical-align: middle;\n",
       "    }\n",
       "\n",
       "    .dataframe tbody tr th {\n",
       "        vertical-align: top;\n",
       "    }\n",
       "\n",
       "    .dataframe thead th {\n",
       "        text-align: right;\n",
       "    }\n",
       "</style>\n",
       "<table border=\"1\" class=\"dataframe\">\n",
       "  <thead>\n",
       "    <tr style=\"text-align: right;\">\n",
       "      <th></th>\n",
       "      <th>imdb_id</th>\n",
       "      <th>title</th>\n",
       "      <th>plot_synopsis</th>\n",
       "      <th>tags</th>\n",
       "      <th>split</th>\n",
       "      <th>synopsis_source</th>\n",
       "    </tr>\n",
       "  </thead>\n",
       "  <tbody>\n",
       "    <tr>\n",
       "      <th>0</th>\n",
       "      <td>tt0057603</td>\n",
       "      <td>I tre volti della paura</td>\n",
       "      <td>Note: this synopsis is for the orginal Italian...</td>\n",
       "      <td>cult, horror, gothic, murder, atmospheric</td>\n",
       "      <td>train</td>\n",
       "      <td>imdb</td>\n",
       "    </tr>\n",
       "    <tr>\n",
       "      <th>1</th>\n",
       "      <td>tt1733125</td>\n",
       "      <td>Dungeons &amp; Dragons: The Book of Vile Darkness</td>\n",
       "      <td>Two thousand years ago, Nhagruul the Foul, a s...</td>\n",
       "      <td>violence</td>\n",
       "      <td>train</td>\n",
       "      <td>imdb</td>\n",
       "    </tr>\n",
       "    <tr>\n",
       "      <th>2</th>\n",
       "      <td>tt0033045</td>\n",
       "      <td>The Shop Around the Corner</td>\n",
       "      <td>Matuschek's, a gift store in Budapest, is the ...</td>\n",
       "      <td>romantic</td>\n",
       "      <td>test</td>\n",
       "      <td>imdb</td>\n",
       "    </tr>\n",
       "    <tr>\n",
       "      <th>3</th>\n",
       "      <td>tt0113862</td>\n",
       "      <td>Mr. Holland's Opus</td>\n",
       "      <td>Glenn Holland, not a morning person by anyone'...</td>\n",
       "      <td>inspiring, romantic, stupid, feel-good</td>\n",
       "      <td>train</td>\n",
       "      <td>imdb</td>\n",
       "    </tr>\n",
       "    <tr>\n",
       "      <th>4</th>\n",
       "      <td>tt0086250</td>\n",
       "      <td>Scarface</td>\n",
       "      <td>In May 1980, a Cuban man named Tony Montana (A...</td>\n",
       "      <td>cruelty, murder, dramatic, cult, violence, atm...</td>\n",
       "      <td>val</td>\n",
       "      <td>imdb</td>\n",
       "    </tr>\n",
       "  </tbody>\n",
       "</table>\n",
       "</div>"
      ],
      "text/plain": [
       "     imdb_id                                          title  \\\n",
       "0  tt0057603                        I tre volti della paura   \n",
       "1  tt1733125  Dungeons & Dragons: The Book of Vile Darkness   \n",
       "2  tt0033045                     The Shop Around the Corner   \n",
       "3  tt0113862                             Mr. Holland's Opus   \n",
       "4  tt0086250                                       Scarface   \n",
       "\n",
       "                                       plot_synopsis  \\\n",
       "0  Note: this synopsis is for the orginal Italian...   \n",
       "1  Two thousand years ago, Nhagruul the Foul, a s...   \n",
       "2  Matuschek's, a gift store in Budapest, is the ...   \n",
       "3  Glenn Holland, not a morning person by anyone'...   \n",
       "4  In May 1980, a Cuban man named Tony Montana (A...   \n",
       "\n",
       "                                                tags  split synopsis_source  \n",
       "0          cult, horror, gothic, murder, atmospheric  train            imdb  \n",
       "1                                           violence  train            imdb  \n",
       "2                                           romantic   test            imdb  \n",
       "3             inspiring, romantic, stupid, feel-good  train            imdb  \n",
       "4  cruelty, murder, dramatic, cult, violence, atm...    val            imdb  "
      ]
     },
     "execution_count": 43,
     "metadata": {},
     "output_type": "execute_result"
    }
   ],
   "source": [
    "df = pd.read_csv('../data/mpst_full_data.csv')\n",
    "df.head()"
   ]
  },
  {
   "cell_type": "code",
   "execution_count": 44,
   "metadata": {},
   "outputs": [
    {
     "data": {
      "text/plain": [
       "14828"
      ]
     },
     "execution_count": 44,
     "metadata": {},
     "output_type": "execute_result"
    }
   ],
   "source": [
    "len(df)"
   ]
  },
  {
   "cell_type": "code",
   "execution_count": 45,
   "metadata": {},
   "outputs": [
    {
     "data": {
      "text/html": [
       "<div>\n",
       "<style scoped>\n",
       "    .dataframe tbody tr th:only-of-type {\n",
       "        vertical-align: middle;\n",
       "    }\n",
       "\n",
       "    .dataframe tbody tr th {\n",
       "        vertical-align: top;\n",
       "    }\n",
       "\n",
       "    .dataframe thead th {\n",
       "        text-align: right;\n",
       "    }\n",
       "</style>\n",
       "<table border=\"1\" class=\"dataframe\">\n",
       "  <thead>\n",
       "    <tr style=\"text-align: right;\">\n",
       "      <th></th>\n",
       "      <th>imdb_id</th>\n",
       "      <th>title</th>\n",
       "      <th>plot_synopsis</th>\n",
       "      <th>tags</th>\n",
       "      <th>split</th>\n",
       "      <th>synopsis_source</th>\n",
       "    </tr>\n",
       "  </thead>\n",
       "  <tbody>\n",
       "    <tr>\n",
       "      <th>0</th>\n",
       "      <td>tt0366444</td>\n",
       "      <td>Fighting Tommy Riley</td>\n",
       "      <td>Tommy Riley (J. P. Davis) stands in boxing gea...</td>\n",
       "      <td>romantic</td>\n",
       "      <td>val</td>\n",
       "      <td>wikipedia</td>\n",
       "    </tr>\n",
       "    <tr>\n",
       "      <th>1</th>\n",
       "      <td>tt0432291</td>\n",
       "      <td>The Fog</td>\n",
       "      <td>As the Californian coastal town of Antonio Bay...</td>\n",
       "      <td>revenge, murder, storytelling, flashback</td>\n",
       "      <td>train</td>\n",
       "      <td>wikipedia</td>\n",
       "    </tr>\n",
       "    <tr>\n",
       "      <th>2</th>\n",
       "      <td>tt1087472</td>\n",
       "      <td>Safehouse</td>\n",
       "      <td>A beautiful business partner. A peaceful marin...</td>\n",
       "      <td>revenge</td>\n",
       "      <td>train</td>\n",
       "      <td>imdb</td>\n",
       "    </tr>\n",
       "    <tr>\n",
       "      <th>3</th>\n",
       "      <td>tt0181262</td>\n",
       "      <td>Thundarr the Barbarian</td>\n",
       "      <td>Thundarr the Barbarian is set in a future (c. ...</td>\n",
       "      <td>good versus evil, psychedelic</td>\n",
       "      <td>train</td>\n",
       "      <td>wikipedia</td>\n",
       "    </tr>\n",
       "    <tr>\n",
       "      <th>4</th>\n",
       "      <td>tt4009278</td>\n",
       "      <td>Shut In</td>\n",
       "      <td>Steven (Charlie Heaton), is a troubled kid who...</td>\n",
       "      <td>revenge</td>\n",
       "      <td>train</td>\n",
       "      <td>wikipedia</td>\n",
       "    </tr>\n",
       "  </tbody>\n",
       "</table>\n",
       "</div>"
      ],
      "text/plain": [
       "     imdb_id                   title  \\\n",
       "0  tt0366444    Fighting Tommy Riley   \n",
       "1  tt0432291                 The Fog   \n",
       "2  tt1087472               Safehouse   \n",
       "3  tt0181262  Thundarr the Barbarian   \n",
       "4  tt4009278                 Shut In   \n",
       "\n",
       "                                       plot_synopsis  \\\n",
       "0  Tommy Riley (J. P. Davis) stands in boxing gea...   \n",
       "1  As the Californian coastal town of Antonio Bay...   \n",
       "2  A beautiful business partner. A peaceful marin...   \n",
       "3  Thundarr the Barbarian is set in a future (c. ...   \n",
       "4  Steven (Charlie Heaton), is a troubled kid who...   \n",
       "\n",
       "                                       tags  split synopsis_source  \n",
       "0                                  romantic    val       wikipedia  \n",
       "1  revenge, murder, storytelling, flashback  train       wikipedia  \n",
       "2                                   revenge  train            imdb  \n",
       "3             good versus evil, psychedelic  train       wikipedia  \n",
       "4                                   revenge  train       wikipedia  "
      ]
     },
     "execution_count": 45,
     "metadata": {},
     "output_type": "execute_result"
    }
   ],
   "source": [
    "# pick 1000 random samples, set seed first\n",
    "df = df.sample(1000, random_state=6661)\n",
    "df = df.reset_index(drop=True)\n",
    "df.head()"
   ]
  },
  {
   "cell_type": "code",
   "execution_count": 49,
   "metadata": {},
   "outputs": [
    {
     "data": {
      "text/plain": [
       "'test_text = \"batata\"\\nret = client.embeddings.create(model=\"nomic-embed-text-v1.5.f16\", input=[\"batata\"])\\nlen(ret.data[0].embedding)'"
      ]
     },
     "execution_count": 49,
     "metadata": {},
     "output_type": "execute_result"
    }
   ],
   "source": [
    "# generate embedding for test\n",
    "'''test_text = \"batata\"\n",
    "ret = client.embeddings.create(model=\"nomic-embed-text-v1.5.f16\", input=[\"batata\"])\n",
    "len(ret.data[0].embedding)'''\n",
    "# 768"
   ]
  },
  {
   "cell_type": "code",
   "execution_count": 47,
   "metadata": {},
   "outputs": [],
   "source": [
    "def embed_text(text):\n",
    "    return client.embeddings.create(model=\"nomic-embed-text-v1.5.f16\", input=[text]).data[0].embedding"
   ]
  },
  {
   "cell_type": "code",
   "execution_count": 48,
   "metadata": {},
   "outputs": [],
   "source": [
    "df['plot_embedding'] = df['plot_synopsis'].apply(embed_text)"
   ]
  },
  {
   "cell_type": "code",
   "execution_count": 50,
   "metadata": {},
   "outputs": [
    {
     "data": {
      "text/html": [
       "<div>\n",
       "<style scoped>\n",
       "    .dataframe tbody tr th:only-of-type {\n",
       "        vertical-align: middle;\n",
       "    }\n",
       "\n",
       "    .dataframe tbody tr th {\n",
       "        vertical-align: top;\n",
       "    }\n",
       "\n",
       "    .dataframe thead th {\n",
       "        text-align: right;\n",
       "    }\n",
       "</style>\n",
       "<table border=\"1\" class=\"dataframe\">\n",
       "  <thead>\n",
       "    <tr style=\"text-align: right;\">\n",
       "      <th></th>\n",
       "      <th>imdb_id</th>\n",
       "      <th>title</th>\n",
       "      <th>plot_synopsis</th>\n",
       "      <th>tags</th>\n",
       "      <th>split</th>\n",
       "      <th>synopsis_source</th>\n",
       "      <th>plot_embedding</th>\n",
       "    </tr>\n",
       "  </thead>\n",
       "  <tbody>\n",
       "    <tr>\n",
       "      <th>0</th>\n",
       "      <td>tt0366444</td>\n",
       "      <td>Fighting Tommy Riley</td>\n",
       "      <td>Tommy Riley (J. P. Davis) stands in boxing gea...</td>\n",
       "      <td>romantic</td>\n",
       "      <td>val</td>\n",
       "      <td>wikipedia</td>\n",
       "      <td>[-0.0358068123459816, -0.0028074306901544333, ...</td>\n",
       "    </tr>\n",
       "    <tr>\n",
       "      <th>1</th>\n",
       "      <td>tt0432291</td>\n",
       "      <td>The Fog</td>\n",
       "      <td>As the Californian coastal town of Antonio Bay...</td>\n",
       "      <td>revenge, murder, storytelling, flashback</td>\n",
       "      <td>train</td>\n",
       "      <td>wikipedia</td>\n",
       "      <td>[0.007099490612745285, 0.007497160229831934, -...</td>\n",
       "    </tr>\n",
       "    <tr>\n",
       "      <th>2</th>\n",
       "      <td>tt1087472</td>\n",
       "      <td>Safehouse</td>\n",
       "      <td>A beautiful business partner. A peaceful marin...</td>\n",
       "      <td>revenge</td>\n",
       "      <td>train</td>\n",
       "      <td>imdb</td>\n",
       "      <td>[-0.003003120655193925, 0.0120626799762249, -0...</td>\n",
       "    </tr>\n",
       "    <tr>\n",
       "      <th>3</th>\n",
       "      <td>tt0181262</td>\n",
       "      <td>Thundarr the Barbarian</td>\n",
       "      <td>Thundarr the Barbarian is set in a future (c. ...</td>\n",
       "      <td>good versus evil, psychedelic</td>\n",
       "      <td>train</td>\n",
       "      <td>wikipedia</td>\n",
       "      <td>[-0.030307963490486145, 0.05825262516736984, -...</td>\n",
       "    </tr>\n",
       "    <tr>\n",
       "      <th>4</th>\n",
       "      <td>tt4009278</td>\n",
       "      <td>Shut In</td>\n",
       "      <td>Steven (Charlie Heaton), is a troubled kid who...</td>\n",
       "      <td>revenge</td>\n",
       "      <td>train</td>\n",
       "      <td>wikipedia</td>\n",
       "      <td>[0.041896771639585495, 0.014580665156245232, -...</td>\n",
       "    </tr>\n",
       "  </tbody>\n",
       "</table>\n",
       "</div>"
      ],
      "text/plain": [
       "     imdb_id                   title  \\\n",
       "0  tt0366444    Fighting Tommy Riley   \n",
       "1  tt0432291                 The Fog   \n",
       "2  tt1087472               Safehouse   \n",
       "3  tt0181262  Thundarr the Barbarian   \n",
       "4  tt4009278                 Shut In   \n",
       "\n",
       "                                       plot_synopsis  \\\n",
       "0  Tommy Riley (J. P. Davis) stands in boxing gea...   \n",
       "1  As the Californian coastal town of Antonio Bay...   \n",
       "2  A beautiful business partner. A peaceful marin...   \n",
       "3  Thundarr the Barbarian is set in a future (c. ...   \n",
       "4  Steven (Charlie Heaton), is a troubled kid who...   \n",
       "\n",
       "                                       tags  split synopsis_source  \\\n",
       "0                                  romantic    val       wikipedia   \n",
       "1  revenge, murder, storytelling, flashback  train       wikipedia   \n",
       "2                                   revenge  train            imdb   \n",
       "3             good versus evil, psychedelic  train       wikipedia   \n",
       "4                                   revenge  train       wikipedia   \n",
       "\n",
       "                                      plot_embedding  \n",
       "0  [-0.0358068123459816, -0.0028074306901544333, ...  \n",
       "1  [0.007099490612745285, 0.007497160229831934, -...  \n",
       "2  [-0.003003120655193925, 0.0120626799762249, -0...  \n",
       "3  [-0.030307963490486145, 0.05825262516736984, -...  \n",
       "4  [0.041896771639585495, 0.014580665156245232, -...  "
      ]
     },
     "execution_count": 50,
     "metadata": {},
     "output_type": "execute_result"
    }
   ],
   "source": [
    "df.head()"
   ]
  },
  {
   "cell_type": "code",
   "execution_count": 51,
   "metadata": {},
   "outputs": [],
   "source": [
    "df.to_csv('mpst_embedded.csv', index=False)"
   ]
  }
 ],
 "metadata": {
  "kernelspec": {
   "display_name": "env",
   "language": "python",
   "name": "python3"
  },
  "language_info": {
   "codemirror_mode": {
    "name": "ipython",
    "version": 3
   },
   "file_extension": ".py",
   "mimetype": "text/x-python",
   "name": "python",
   "nbconvert_exporter": "python",
   "pygments_lexer": "ipython3",
   "version": "3.11.7"
  }
 },
 "nbformat": 4,
 "nbformat_minor": 2
}
